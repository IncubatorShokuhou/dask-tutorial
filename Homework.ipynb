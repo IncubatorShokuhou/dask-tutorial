{
 "cells": [
  {
   "cell_type": "markdown",
   "metadata": {},
   "source": [
    "作业\n",
    "========\n",
    "\n",
    "教程环境的限制阻碍了现实世界中大数据集的使用。 这使我们无法获得完全令人满意的体验。 为了解决这种情况，我们建议使用以下数据集。"
   ]
  },
  {
   "cell_type": "markdown",
   "metadata": {},
   "source": [
    "纽约市出租车数据\n",
    "------\n",
    "\n",
    "[下载链接](http://www.andresmh.com/nyctaxitrips/)\n",
    "\n",
    "2013 年根据 FOIA 要求发布的出租车行程。 大约 20GB CSV 未压缩。\n",
    "\n",
    "**尝试以下操作:**\n",
    "\n",
    "* 使用 `dask.dataframe` 进行Pandas风格的查询\n",
    "* 使用和不使用分类存储在 HDF5 中，测量文件的大小和查询时间\n",
    "* 通过日期时间列之一设置索引并存储在 castra 中（也使用分类）。 执行范围查询并测量速度。 在仍然拥有“交互式”体验的同时，您可以执行多大的查询和复杂程度？"
   ]
  },
  {
   "cell_type": "markdown",
   "metadata": {},
   "source": [
    "Github 存档\n",
    "----------------\n",
    "\n",
    "[下载链接](https://www.githubarchive.org/)\n",
    "\n",
    "过去几年的每个公共 github 事件都存储为 gzip 压缩的行分隔 JSON 数据。 请注意，架构在 2014-2015 年过渡时发生切换。\n",
    "\n",
    "**尝试以下操作:**\n",
    "\n",
    "* 使用`dask.bag`检查数据\n",
    "* 使用`pluck` 和`filter` 等函数进行数据挖掘\n",
    "* 找出 2015 年最受欢迎的提交者是谁"
   ]
  },
  {
   "cell_type": "markdown",
   "metadata": {},
   "source": [
    "Reddit 评论\n",
    "-----------------\n",
    "\n",
    "[下载链接](https://www.reddit.com/r/datasets/comments/3bxlg7/i_have_every_publicly_available_reddit_comment/)\n",
    "\n",
    "每一个公开的 reddit 评论，都可以通过一个大的种子文件（`torrent`）获得\n",
    "\n",
    "**尝试以下操作:**\n",
    "\n",
    "* 使用`dask.bag`检查数据\n",
    "* 结合`dask.bag` 和`nltk` 或`gensim` 对数据进行文本分析\n",
    "* 重现 [Daniel Rodriguez](https://extrapolations.dev/blog/2015/07/reproduceit-reddit-word-count-dask/) 的工作，看看你是否可以在分析这些数据时提高他的速度。"
   ]
  },
  {
   "cell_type": "markdown",
   "metadata": {},
   "source": [
    "纽约市政热线311数据\n",
    "---------\n",
    "\n",
    "译者注：311是纽约市的非紧急市政服务热线，类似与中国的12345市长热线。\n",
    "\n",
    "[Download link](https://nycopendata.socrata.com/Social-Services/311-Service-Requests-from-2010-to-Present/erm2-nwe9)\n",
    "\n",
    "自 2010 年以来纽约市的所有311服务请求"
   ]
  },
  {
   "cell_type": "markdown",
   "metadata": {},
   "source": [
    "欧洲中期天气预报中心数据\n",
    "----------------------------------------------------------\n",
    "\n",
    "[下载链接](https://gist.github.com/mrocklin/26d8323f9a8a6a75fce0)\n",
    "\n",
    "从 ECMWF 下载历史全球天气数据。\n",
    "\n",
    "译者注：实际上，下载链接为ERA-interm的逐6小时，0.25度分辨率的地面温度数据。\n",
    "\n",
    "**尝试以下操作:**\n",
    "\n",
    "* 温度随时间的变化是多少？\n",
    "* 与之前的历史相比，哪些地区在上个月经历了最大的温度波动？\n",
    "* 将地球温度绘制为纬度的函数，然后绘制为经度"
   ]
  }
 ],
 "metadata": {
  "kernelspec": {
   "display_name": "Python 3",
   "language": "python",
   "name": "python3"
  },
  "language_info": {
   "codemirror_mode": {
    "name": "ipython",
    "version": 3
   },
   "file_extension": ".py",
   "mimetype": "text/x-python",
   "name": "python",
   "nbconvert_exporter": "python",
   "pygments_lexer": "ipython3",
   "version": "3.9.5"
  },
  "varInspector": {
   "cols": {
    "lenName": 16,
    "lenType": 16,
    "lenVar": 40
   },
   "kernels_config": {
    "python": {
     "delete_cmd_postfix": "",
     "delete_cmd_prefix": "del ",
     "library": "var_list.py",
     "varRefreshCmd": "print(var_dic_list())"
    },
    "r": {
     "delete_cmd_postfix": ") ",
     "delete_cmd_prefix": "rm(",
     "library": "var_list.r",
     "varRefreshCmd": "cat(var_dic_list()) "
    }
   },
   "types_to_exclude": [
    "module",
    "function",
    "builtin_function_or_method",
    "instance",
    "_Feature"
   ],
   "window_display": false
  }
 },
 "nbformat": 4,
 "nbformat_minor": 1
}
