{
 "cells": [
  {
   "cell_type": "markdown",
   "source": [
    "<img src=\"images/dask_horizontal.svg\" align=\"right\" width=\"30%\">"
   ],
   "metadata": {}
  },
  {
   "cell_type": "markdown",
   "source": [
    "# 介绍\n",
    "\n",
    "欢迎来到Dask教程。\n",
    "\n",
    "Dask是一个并行计算库，可扩展现有的Python生态系统。 本教程将更一般性地介绍Dask和并行数据分析。\n",
    "\n",
    "Dask可以在下至笔记本电脑，上至集群中运行。 在这里，我们将使用您在笔记本电脑上设置的环境在本地并行分析中型数据集。"
   ],
   "metadata": {}
  },
  {
   "cell_type": "markdown",
   "source": [
    "## Overview"
   ],
   "metadata": {}
  },
  {
   "cell_type": "markdown",
   "source": [
    "Dask在大于内存的数据集上提供多核和分布式并行执行。\n",
    "\n",
    "我们可以从高阶和低阶两个层次考虑：\n",
    "\n",
    "* **高阶集合：** Dask提供了高阶的Array，Bag和DataFrame, 它们模仿了NumPy，List和Pandas，但可以在不适合主内存的数据集上并行操作。 \n",
    "    Dask的高阶集合是NumPy和Pandas在大型数据集的替代品。\n",
    "* **低阶计划程序：** Dask提供了动态任务计划程序，可并行执行任务图。 这些执行引擎为上述高阶集合提供支持，但也可以为用户定义的自定义工作负载提供支持。 这些调度程序的等待时间很短（大约1毫秒），并且努力在较小的内存占用空间中运行计算。 Dask的调度程序是在复杂情况或其他任务调度系统（如`Luigi`或`IPython parallel`）中直接使用`threading`或`multiprocessing`库的替代方法。\n",
    "\n",
    "\n",
    "不同的用户在不同的层阶上进行操作，但了解两者很有用。\n",
    "\n",
    "Dask[用例](https://stories.dask.org/en/latest/) 提供了许多适用Dask的工作流程示例。"
   ],
   "metadata": {}
  },
  {
   "cell_type": "markdown",
   "source": [
    "## 准备工作"
   ],
   "metadata": {}
  },
  {
   "cell_type": "markdown",
   "source": [
    "你需要克隆这个仓库: \n",
    "\n",
    "    git clone http://github.com/IncubatorShokuhou/dask-tutorial\n",
    "\n",
    "`binder` 子目录中包含的文件 `environment.yml` 包含运行本教程所需的所有包的列表。 要使用 `conda` 安装它们，你可以这样做:\n",
    "\n",
    "    conda env create -f binder/environment.yml\n",
    "    conda activate dask-tutorial\n",
    "    jupyter labextension install @jupyter-widgets/jupyterlab-manager\n",
    "    jupyter labextension install @bokeh/jupyter_bokeh\n",
    "    \n",
    "在运行此notebook*之前*执行此操作。"
   ],
   "metadata": {}
  },
  {
   "cell_type": "markdown",
   "source": [
    "## 链接"
   ],
   "metadata": {}
  },
  {
   "cell_type": "markdown",
   "source": [
    "*  参考\n",
    "    *  [文档](https://dask.org/)\n",
    "    *  [示例](https://examples.dask.org/)\n",
    "    *  [代码](https://github.com/dask/dask/)\n",
    "    *  [博客](https://blog.dask.org/)\n",
    "*  求助\n",
    "    *   Stack Overflow上的[`dask`](http://stackoverflow.com/questions/tagged/dask)标签, 针对用法问题\n",
    "    *   [github issues](https://github.com/dask/dask/issues/new) 针对错误报告和功能请求\n",
    "    *   [gitter chat](https://gitter.im/dask/dask) 针对一般问题、非错误问题、讨论\n",
    "    *   参加现场教程"
   ],
   "metadata": {}
  },
  {
   "cell_type": "markdown",
   "source": [
    "## 教程结构\n",
    "\n",
    "每个部分都是一个 Jupyter 笔记本。由文本、代码和练习组成。\n",
    "\n",
    "如果你没有使用过Jupyterlab的话，它类似于Jupyter Notebook。如果您还没有使用过Notebook，那么以下是快速介绍\n",
    "\n",
    "1.有两种模式：命令和编辑\n",
    "2.在命令模式下，按`Enter`编辑一个单元格（比如这个markdown单元格）\n",
    "3.从编辑模式，按`Esc`切换到命令模式\n",
    "4.按`shift+enter`执行一个单元格并移动到下一个单元格。\n",
    "\n",
    "工具栏有用于执行、转换和创建单元格的命令。\n",
    "\n",
    "教程的布局如下：\n",
    "- 基础：解释什么是 Dask，它是如何工作的，以及如何使用低级原语来设置计算。普通用户可能希望跳过本节，尽管我们认为它对所有用户都是有用的知识。\n",
    "- 分布式：有关在分布式调度程序上运行 Dask 的信息，可扩展到分布式设置并增强对任务操作的监控。 分布式调度程序现在通常是执行任务工作的推荐引擎，即使在单个工作站或笔记本电脑上也是如此。\n",
    "- 集合：方便的抽象给大数据带来熟悉的感觉\n",
    "    - bag：具有函数范式的 Python 迭代器，例如在 func/iter-tools 和 toolz 中找到 - 将列表/生成器泛化为大数据；这对于 PySpark 的 [RDD](http://spark.apache.org/docs/2.1.0/api/python/pyspark.html#pyspark.RDD) 的用户来说似乎非常熟悉\n",
    "    - array：海量多维数值数据，具有Numpy功能\n",
    "    - dataframe：海量表格数据，具有Pandas功能\n",
    "    \n",
    "尽管上面链接的文档中有大量信息，但在这里我们旨在提供实用的建议，以帮助您在日常情况下理解和应用 Dask。 这意味着您不应期望涵盖 Dask 的每个功能，但希望这些示例与您想到的工作流程类型相似。\n",
    "\n",
    "## 联系: 打印 `Hello, world!`\n",
    "每个笔记本都会有练习供您解决。 您将获得一个空白或部分完成的单元格，然后是一个带有解决方案的隐藏单元格。 例如。\n",
    "\n",
    "\n",
    "打印文本 \"Hello, world!\"。"
   ],
   "metadata": {}
  },
  {
   "cell_type": "code",
   "execution_count": 1,
   "source": [
    "# 将你的代码写在这儿"
   ],
   "outputs": [],
   "metadata": {}
  },
  {
   "cell_type": "markdown",
   "source": [
    "下一个单元格有解决方案。 单击省略号以展开解决方案，并始终确保运行解决方案单元格，以防笔记本的后续部分取决于解决方案的输出。"
   ],
   "metadata": {}
  },
  {
   "cell_type": "code",
   "execution_count": null,
   "source": [
    "print(\"Hello, world!\")"
   ],
   "outputs": [],
   "metadata": {
    "jupyter": {
     "source_hidden": true
    }
   }
  }
 ],
 "metadata": {
  "anaconda-cloud": {},
  "kernelspec": {
   "name": "python3",
   "display_name": "Python 3.8.10 64-bit ('dask-tutorial': conda)"
  },
  "language_info": {
   "codemirror_mode": {
    "name": "ipython",
    "version": 3
   },
   "file_extension": ".py",
   "mimetype": "text/x-python",
   "name": "python",
   "nbconvert_exporter": "python",
   "pygments_lexer": "ipython3",
   "version": "3.8.10"
  },
  "interpreter": {
   "hash": "3f2e3fb42896b6b47c37375014a159d976fd49965917325c599b06eb4946867a"
  }
 },
 "nbformat": 4,
 "nbformat_minor": 4
}